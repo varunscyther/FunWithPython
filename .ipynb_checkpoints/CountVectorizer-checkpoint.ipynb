{
 "cells": [
  {
   "cell_type": "code",
   "execution_count": 1,
   "metadata": {},
   "outputs": [],
   "source": [
    "class CountVectorizer :\n",
    "\n",
    "    def __init__(self, ngram_size) :\n",
    "        self.ngram_size = ngram_size\n",
    "        self.vocab = {}\n",
    "\n",
    "    def fit(self, corpus) :\n",
    "        self.vocab.clear()\n",
    "        all_token_list = []\n",
    "        for x in corpus :\n",
    "            tokens_list = []\n",
    "            while len(x) >= self.ngram_size :\n",
    "                token = x[:self.ngram_size]\n",
    "                tokens_list.append(token)\n",
    "                all_token_list.append(token)\n",
    "                x = x[1 :]\n",
    "        all_token_list = sorted(list(set(all_token_list)))\n",
    "        self.vocab = {key : idx for idx, key in enumerate(all_token_list)}\n",
    "\n",
    "    def transform(self, corpus) :\n",
    "        intermediate_corpus = {}\n",
    "        transformed_corpus = []\n",
    "        for x in corpus :\n",
    "            initial_token = x\n",
    "            tokens_list = []\n",
    "            while len(x) >= self.ngram_size :\n",
    "                token = x[:self.ngram_size]\n",
    "                tokens_list.append(token)\n",
    "                x = x[1 :]\n",
    "            intermediate_corpus[initial_token] = tokens_list\n",
    "        for string_element in corpus :\n",
    "            transformed_element_list = []\n",
    "            for dic_token in sorted(self.vocab.keys()) :\n",
    "                transformed_element_list.append(intermediate_corpus[string_element].count(dic_token))\n",
    "            transformed_corpus.append(transformed_element_list)\n",
    "        return transformed_corpus\n",
    "\n",
    "    def fit_transform(self, corpus) :\n",
    "        self.fit(corpus)\n",
    "        return self.transform(corpus)\n"
   ]
  },
  {
   "cell_type": "code",
   "execution_count": 2,
   "metadata": {},
   "outputs": [],
   "source": [
    "corpus = [\n",
    "    'AATACAT',  # 'AA', 'AT', 'TA', 'AC', 'CA', 'AT'\n",
    "    'CTACCCT',  # 'CT', 'TA', 'AC', 'CC', 'CC', 'CT'\n",
    "    'TACCTAC',  # 'TA', 'AC', 'CC', 'CT', 'TA', 'AC'\n",
    "]"
   ]
  },
  {
   "cell_type": "code",
   "execution_count": 3,
   "metadata": {},
   "outputs": [],
   "source": [
    "correct_transformation = [\n",
    "    [1, 1, 2, 1, 0, 0, 1],\n",
    "    [0, 1, 0, 0, 2, 2, 1],\n",
    "    [0, 2, 0, 0, 1, 1, 2],\n",
    "]"
   ]
  },
  {
   "cell_type": "code",
   "execution_count": 4,
   "metadata": {},
   "outputs": [],
   "source": [
    "vectorizer = CountVectorizer(2)"
   ]
  },
  {
   "cell_type": "code",
   "execution_count": 5,
   "metadata": {},
   "outputs": [
    {
     "name": "stdout",
     "output_type": "stream",
     "text": [
      "{'AA': 0, 'AC': 1, 'AT': 2, 'CA': 3, 'CC': 4, 'CT': 5, 'TA': 6}\n"
     ]
    }
   ],
   "source": [
    "vectorizer.fit(corpus)"
   ]
  },
  {
   "cell_type": "code",
   "execution_count": 6,
   "metadata": {},
   "outputs": [
    {
     "name": "stdout",
     "output_type": "stream",
     "text": [
      "{'AATACAT': ['AA', 'AT', 'TA', 'AC', 'CA', 'AT'], 'CTACCCT': ['CT', 'TA', 'AC', 'CC', 'CC', 'CT'], 'TACCTAC': ['TA', 'AC', 'CC', 'CT', 'TA', 'AC']}\n"
     ]
    },
    {
     "data": {
      "text/plain": [
       "True"
      ]
     },
     "execution_count": 6,
     "metadata": {},
     "output_type": "execute_result"
    }
   ],
   "source": [
    "vectorizer.transform(corpus) == correct_transformation"
   ]
  },
  {
   "cell_type": "code",
   "execution_count": 7,
   "metadata": {},
   "outputs": [],
   "source": [
    "vectorizer = CountVectorizer(2)"
   ]
  },
  {
   "cell_type": "code",
   "execution_count": 8,
   "metadata": {},
   "outputs": [
    {
     "name": "stdout",
     "output_type": "stream",
     "text": [
      "{'AA': 0, 'AC': 1, 'AT': 2, 'CA': 3, 'CC': 4, 'CT': 5, 'TA': 6}\n",
      "{'AATACAT': ['AA', 'AT', 'TA', 'AC', 'CA', 'AT'], 'CTACCCT': ['CT', 'TA', 'AC', 'CC', 'CC', 'CT'], 'TACCTAC': ['TA', 'AC', 'CC', 'CT', 'TA', 'AC']}\n"
     ]
    },
    {
     "data": {
      "text/plain": [
       "True"
      ]
     },
     "execution_count": 8,
     "metadata": {},
     "output_type": "execute_result"
    }
   ],
   "source": [
    "vectorizer.fit_transform(corpus) == correct_transformation"
   ]
  },
  {
   "cell_type": "code",
   "execution_count": 9,
   "metadata": {},
   "outputs": [],
   "source": [
    "corpus_2 = ['TCAATCAC', 'GGGGGGGGGGG', 'AAAA']"
   ]
  },
  {
   "cell_type": "code",
   "execution_count": 10,
   "metadata": {},
   "outputs": [],
   "source": [
    "vectorizer = CountVectorizer(2)"
   ]
  },
  {
   "cell_type": "code",
   "execution_count": 11,
   "metadata": {},
   "outputs": [
    {
     "name": "stdout",
     "output_type": "stream",
     "text": [
      "{'AA': 0, 'AC': 1, 'AT': 2, 'CA': 3, 'CC': 4, 'CT': 5, 'TA': 6}\n"
     ]
    }
   ],
   "source": [
    "vectorizer.fit(corpus)"
   ]
  },
  {
   "cell_type": "code",
   "execution_count": 12,
   "metadata": {},
   "outputs": [
    {
     "name": "stdout",
     "output_type": "stream",
     "text": [
      "{'TCAATCAC': ['TC', 'CA', 'AA', 'AT', 'TC', 'CA', 'AC'], 'GGGGGGGGGGG': ['GG', 'GG', 'GG', 'GG', 'GG', 'GG', 'GG', 'GG', 'GG', 'GG'], 'AAAA': ['AA', 'AA', 'AA']}\n"
     ]
    },
    {
     "data": {
      "text/plain": [
       "True"
      ]
     },
     "execution_count": 12,
     "metadata": {},
     "output_type": "execute_result"
    }
   ],
   "source": [
    "vectorizer.transform(corpus_2) == [\n",
    "    [1, 1, 1, 2, 0, 0, 0],\n",
    "    [0, 0, 0, 0, 0, 0, 0],\n",
    "    [3, 0, 0, 0, 0, 0, 0]\n",
    "] "
   ]
  },
  {
   "cell_type": "code",
   "execution_count": 13,
   "metadata": {},
   "outputs": [],
   "source": [
    "vectorizer = CountVectorizer(2)"
   ]
  },
  {
   "cell_type": "code",
   "execution_count": 14,
   "metadata": {},
   "outputs": [
    {
     "name": "stdout",
     "output_type": "stream",
     "text": [
      "{'AA': 0}\n",
      "{'AAAA': ['AA', 'AA', 'AA']}\n",
      "[[3]]\n"
     ]
    }
   ],
   "source": [
    "print(vectorizer.fit_transform(['AAAA']))"
   ]
  },
  {
   "cell_type": "code",
   "execution_count": 15,
   "metadata": {},
   "outputs": [
    {
     "name": "stdout",
     "output_type": "stream",
     "text": [
      "{'BB': 0}\n",
      "{'BBBB': ['BB', 'BB', 'BB']}\n",
      "[[3]]\n"
     ]
    }
   ],
   "source": [
    "print(vectorizer.fit_transform(['BBBB']))"
   ]
  },
  {
   "cell_type": "code",
   "execution_count": 16,
   "metadata": {},
   "outputs": [],
   "source": [
    "vectorizer = CountVectorizer(2)"
   ]
  },
  {
   "cell_type": "code",
   "execution_count": 17,
   "metadata": {},
   "outputs": [
    {
     "name": "stdout",
     "output_type": "stream",
     "text": [
      "{'AA': 0}\n"
     ]
    }
   ],
   "source": [
    "vectorizer.fit(['AAAA'])"
   ]
  },
  {
   "cell_type": "code",
   "execution_count": 18,
   "metadata": {},
   "outputs": [
    {
     "name": "stdout",
     "output_type": "stream",
     "text": [
      "{'AACC': ['AA', 'AC', 'CC']}\n"
     ]
    }
   ],
   "source": [
    "answer_1 = vectorizer.transform(['AACC'])"
   ]
  },
  {
   "cell_type": "code",
   "execution_count": 19,
   "metadata": {},
   "outputs": [
    {
     "name": "stdout",
     "output_type": "stream",
     "text": [
      "{'BBCC': ['BB', 'BC', 'CC']}\n"
     ]
    }
   ],
   "source": [
    "answer_2 = vectorizer.transform(['BBCC'])"
   ]
  },
  {
   "cell_type": "code",
   "execution_count": 20,
   "metadata": {},
   "outputs": [
    {
     "name": "stdout",
     "output_type": "stream",
     "text": [
      "[[1]]\n",
      "[[0]]\n"
     ]
    }
   ],
   "source": [
    "print(answer_1)\n",
    "print(answer_2)"
   ]
  },
  {
   "cell_type": "code",
   "execution_count": null,
   "metadata": {},
   "outputs": [],
   "source": []
  }
 ],
 "metadata": {
  "kernelspec": {
   "display_name": "Python 3",
   "language": "python",
   "name": "python3"
  },
  "language_info": {
   "codemirror_mode": {
    "name": "ipython",
    "version": 3
   },
   "file_extension": ".py",
   "mimetype": "text/x-python",
   "name": "python",
   "nbconvert_exporter": "python",
   "pygments_lexer": "ipython3",
   "version": "3.8.3"
  }
 },
 "nbformat": 4,
 "nbformat_minor": 4
}
